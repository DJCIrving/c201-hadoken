{
  "nbformat": 4,
  "nbformat_minor": 0,
  "metadata": {
    "colab": {
      "name": "MD_PrácticaClustering_DJCIM.ipynb",
      "provenance": [],
      "authorship_tag": "ABX9TyOImvqnhbN/Ypw5HCCz2CXs",
      "include_colab_link": true
    },
    "kernelspec": {
      "name": "python3",
      "display_name": "Python 3"
    }
  },
  "cells": [
    {
      "cell_type": "markdown",
      "metadata": {
        "id": "view-in-github",
        "colab_type": "text"
      },
      "source": [
        "<a href=\"https://colab.research.google.com/github/DJCIrving/c201-hadoken/blob/master/MD_Pr%C3%A1cticaClustering_DJCIM.ipynb\" target=\"_parent\"><img src=\"https://colab.research.google.com/assets/colab-badge.svg\" alt=\"Open In Colab\"/></a>"
      ]
    },
    {
      "cell_type": "markdown",
      "metadata": {
        "id": "XpjVJUJlSKh9"
      },
      "source": [
        "##**Practica N5  Clustering**\n",
        "\n",
        "Alumno: De Jesus Celestino Irving Manuel \n",
        "\n",
        "Correo: irvingdejesus.fi.unam@gmail.com\n",
        "\n",
        "N° de cuenta: 314175850\n",
        "\n",
        "Materia: Mineria de Datos \n",
        "\n",
        "Ciclo: 2020-1"
      ]
    },
    {
      "cell_type": "code",
      "metadata": {
        "id": "3Fb8Rj8NV6Is"
      },
      "source": [
        "import pandas as pd\n",
        "import numpy as np\n",
        "import matplotlib.pyplot as plt\n",
        "import seaborn as sb            #Biblioteca para visualización de datos basado en matplotlib\n",
        "#Para que las figuras aparezcan en línea dentro del notebook\n",
        "%matplotlib inline "
      ],
      "execution_count": null,
      "outputs": []
    },
    {
      "cell_type": "markdown",
      "metadata": {
        "id": "m0WPFE5RXIbz"
      },
      "source": [
        "### **I. Acceso a datos y selección de características**\n",
        "\n",
        "#### **1) Lectura de datos**\n",
        "\n",
        "Estudios clínicos a partir de imágenes digitalizadas de pacientes con cáncer de mama de Wisconsin (WDBC, Wisconsin Diagnostic Breast Cancer)\n",
        "\n",
        "Fuente: https://archive.ics.uci.edu/ml/datasets/Breast+Cancer+Wisconsin+(Diagnostic)"
      ]
    },
    {
      "cell_type": "code",
      "metadata": {
        "colab": {
          "base_uri": "https://localhost:8080/"
        },
        "id": "fJvOUAnnYCMI",
        "outputId": "1c9c227b-a919-4960-e68d-65d053cb10a8"
      },
      "source": [
        "from google.colab import drive\n",
        "drive.mount('/content/drive')"
      ],
      "execution_count": null,
      "outputs": [
        {
          "output_type": "stream",
          "text": [
            "Mounted at /content/drive\n"
          ],
          "name": "stdout"
        }
      ]
    },
    {
      "cell_type": "code",
      "metadata": {
        "colab": {
          "base_uri": "https://localhost:8080/",
          "height": 488
        },
        "id": "novjAaFIYM_o",
        "outputId": "609e491a-0aab-4efc-c009-ec04054a1e2b"
      },
      "source": [
        "BreastCancer = pd.read_csv('/content/drive/MyDrive/WDBCOriginal.csv')\n",
        "\n",
        "BreastCancer"
      ],
      "execution_count": null,
      "outputs": [
        {
          "output_type": "execute_result",
          "data": {
            "text/html": [
              "<div>\n",
              "<style scoped>\n",
              "    .dataframe tbody tr th:only-of-type {\n",
              "        vertical-align: middle;\n",
              "    }\n",
              "\n",
              "    .dataframe tbody tr th {\n",
              "        vertical-align: top;\n",
              "    }\n",
              "\n",
              "    .dataframe thead th {\n",
              "        text-align: right;\n",
              "    }\n",
              "</style>\n",
              "<table border=\"1\" class=\"dataframe\">\n",
              "  <thead>\n",
              "    <tr style=\"text-align: right;\">\n",
              "      <th></th>\n",
              "      <th>IDNumber</th>\n",
              "      <th>Diagnosis</th>\n",
              "      <th>Radius</th>\n",
              "      <th>Texture</th>\n",
              "      <th>Perimeter</th>\n",
              "      <th>Area</th>\n",
              "      <th>Smoothness</th>\n",
              "      <th>Compactness</th>\n",
              "      <th>Concavity</th>\n",
              "      <th>ConcavePoints</th>\n",
              "      <th>Symmetry</th>\n",
              "      <th>FractalDimension</th>\n",
              "    </tr>\n",
              "  </thead>\n",
              "  <tbody>\n",
              "    <tr>\n",
              "      <th>0</th>\n",
              "      <td>P-842302</td>\n",
              "      <td>M</td>\n",
              "      <td>17.99</td>\n",
              "      <td>10.38</td>\n",
              "      <td>122.80</td>\n",
              "      <td>1001.0</td>\n",
              "      <td>0.11840</td>\n",
              "      <td>0.27760</td>\n",
              "      <td>0.30010</td>\n",
              "      <td>0.14710</td>\n",
              "      <td>0.2419</td>\n",
              "      <td>0.07871</td>\n",
              "    </tr>\n",
              "    <tr>\n",
              "      <th>1</th>\n",
              "      <td>P-842517</td>\n",
              "      <td>M</td>\n",
              "      <td>20.57</td>\n",
              "      <td>17.77</td>\n",
              "      <td>132.90</td>\n",
              "      <td>1326.0</td>\n",
              "      <td>0.08474</td>\n",
              "      <td>0.07864</td>\n",
              "      <td>0.08690</td>\n",
              "      <td>0.07017</td>\n",
              "      <td>0.1812</td>\n",
              "      <td>0.05667</td>\n",
              "    </tr>\n",
              "    <tr>\n",
              "      <th>2</th>\n",
              "      <td>P-84300903</td>\n",
              "      <td>M</td>\n",
              "      <td>19.69</td>\n",
              "      <td>21.25</td>\n",
              "      <td>130.00</td>\n",
              "      <td>1203.0</td>\n",
              "      <td>0.10960</td>\n",
              "      <td>0.15990</td>\n",
              "      <td>0.19740</td>\n",
              "      <td>0.12790</td>\n",
              "      <td>0.2069</td>\n",
              "      <td>0.05999</td>\n",
              "    </tr>\n",
              "    <tr>\n",
              "      <th>3</th>\n",
              "      <td>P-84348301</td>\n",
              "      <td>M</td>\n",
              "      <td>11.42</td>\n",
              "      <td>20.38</td>\n",
              "      <td>77.58</td>\n",
              "      <td>386.1</td>\n",
              "      <td>0.14250</td>\n",
              "      <td>0.28390</td>\n",
              "      <td>0.24140</td>\n",
              "      <td>0.10520</td>\n",
              "      <td>0.2597</td>\n",
              "      <td>0.09744</td>\n",
              "    </tr>\n",
              "    <tr>\n",
              "      <th>4</th>\n",
              "      <td>P-84358402</td>\n",
              "      <td>M</td>\n",
              "      <td>20.29</td>\n",
              "      <td>14.34</td>\n",
              "      <td>135.10</td>\n",
              "      <td>1297.0</td>\n",
              "      <td>0.10030</td>\n",
              "      <td>0.13280</td>\n",
              "      <td>0.19800</td>\n",
              "      <td>0.10430</td>\n",
              "      <td>0.1809</td>\n",
              "      <td>0.05883</td>\n",
              "    </tr>\n",
              "    <tr>\n",
              "      <th>...</th>\n",
              "      <td>...</td>\n",
              "      <td>...</td>\n",
              "      <td>...</td>\n",
              "      <td>...</td>\n",
              "      <td>...</td>\n",
              "      <td>...</td>\n",
              "      <td>...</td>\n",
              "      <td>...</td>\n",
              "      <td>...</td>\n",
              "      <td>...</td>\n",
              "      <td>...</td>\n",
              "      <td>...</td>\n",
              "    </tr>\n",
              "    <tr>\n",
              "      <th>564</th>\n",
              "      <td>P-926424</td>\n",
              "      <td>M</td>\n",
              "      <td>21.56</td>\n",
              "      <td>22.39</td>\n",
              "      <td>142.00</td>\n",
              "      <td>1479.0</td>\n",
              "      <td>0.11100</td>\n",
              "      <td>0.11590</td>\n",
              "      <td>0.24390</td>\n",
              "      <td>0.13890</td>\n",
              "      <td>0.1726</td>\n",
              "      <td>0.05623</td>\n",
              "    </tr>\n",
              "    <tr>\n",
              "      <th>565</th>\n",
              "      <td>P-926682</td>\n",
              "      <td>M</td>\n",
              "      <td>20.13</td>\n",
              "      <td>28.25</td>\n",
              "      <td>131.20</td>\n",
              "      <td>1261.0</td>\n",
              "      <td>0.09780</td>\n",
              "      <td>0.10340</td>\n",
              "      <td>0.14400</td>\n",
              "      <td>0.09791</td>\n",
              "      <td>0.1752</td>\n",
              "      <td>0.05533</td>\n",
              "    </tr>\n",
              "    <tr>\n",
              "      <th>566</th>\n",
              "      <td>P-926954</td>\n",
              "      <td>M</td>\n",
              "      <td>16.60</td>\n",
              "      <td>28.08</td>\n",
              "      <td>108.30</td>\n",
              "      <td>858.1</td>\n",
              "      <td>0.08455</td>\n",
              "      <td>0.10230</td>\n",
              "      <td>0.09251</td>\n",
              "      <td>0.05302</td>\n",
              "      <td>0.1590</td>\n",
              "      <td>0.05648</td>\n",
              "    </tr>\n",
              "    <tr>\n",
              "      <th>567</th>\n",
              "      <td>P-927241</td>\n",
              "      <td>M</td>\n",
              "      <td>20.60</td>\n",
              "      <td>29.33</td>\n",
              "      <td>140.10</td>\n",
              "      <td>1265.0</td>\n",
              "      <td>0.11780</td>\n",
              "      <td>0.27700</td>\n",
              "      <td>0.35140</td>\n",
              "      <td>0.15200</td>\n",
              "      <td>0.2397</td>\n",
              "      <td>0.07016</td>\n",
              "    </tr>\n",
              "    <tr>\n",
              "      <th>568</th>\n",
              "      <td>P-92751</td>\n",
              "      <td>B</td>\n",
              "      <td>7.76</td>\n",
              "      <td>24.54</td>\n",
              "      <td>47.92</td>\n",
              "      <td>181.0</td>\n",
              "      <td>0.05263</td>\n",
              "      <td>0.04362</td>\n",
              "      <td>0.00000</td>\n",
              "      <td>0.00000</td>\n",
              "      <td>0.1587</td>\n",
              "      <td>0.05884</td>\n",
              "    </tr>\n",
              "  </tbody>\n",
              "</table>\n",
              "<p>569 rows × 12 columns</p>\n",
              "</div>"
            ],
            "text/plain": [
              "       IDNumber Diagnosis  Radius  ...  ConcavePoints  Symmetry  FractalDimension\n",
              "0      P-842302         M   17.99  ...        0.14710    0.2419           0.07871\n",
              "1      P-842517         M   20.57  ...        0.07017    0.1812           0.05667\n",
              "2    P-84300903         M   19.69  ...        0.12790    0.2069           0.05999\n",
              "3    P-84348301         M   11.42  ...        0.10520    0.2597           0.09744\n",
              "4    P-84358402         M   20.29  ...        0.10430    0.1809           0.05883\n",
              "..          ...       ...     ...  ...            ...       ...               ...\n",
              "564    P-926424         M   21.56  ...        0.13890    0.1726           0.05623\n",
              "565    P-926682         M   20.13  ...        0.09791    0.1752           0.05533\n",
              "566    P-926954         M   16.60  ...        0.05302    0.1590           0.05648\n",
              "567    P-927241         M   20.60  ...        0.15200    0.2397           0.07016\n",
              "568     P-92751         B    7.76  ...        0.00000    0.1587           0.05884\n",
              "\n",
              "[569 rows x 12 columns]"
            ]
          },
          "metadata": {
            "tags": []
          },
          "execution_count": 13
        }
      ]
    },
    {
      "cell_type": "code",
      "metadata": {
        "colab": {
          "base_uri": "https://localhost:8080/"
        },
        "id": "H-lS5a8Qa0ug",
        "outputId": "0e9a6b40-eaf7-4e80-901c-5ed54558e2b1"
      },
      "source": [
        "print(BreastCancer.groupby('Diagnosis').size())"
      ],
      "execution_count": null,
      "outputs": [
        {
          "output_type": "stream",
          "text": [
            "Diagnosis\n",
            "B    357\n",
            "M    212\n",
            "dtype: int64\n"
          ],
          "name": "stdout"
        }
      ]
    },
    {
      "cell_type": "markdown",
      "metadata": {
        "id": "zM6MKS3TXWK8"
      },
      "source": [
        "2) Seleccion de caracteristicas \n"
      ]
    },
    {
      "cell_type": "code",
      "metadata": {
        "colab": {
          "base_uri": "https://localhost:8080/",
          "height": 376
        },
        "id": "nJ32yyL-a7Q4",
        "outputId": "0e6a25a0-fba6-4fef-f3fa-b3f9e5cfb54a"
      },
      "source": [
        "Matriz = BreastCancer.corr(method='pearson')\n",
        "Matriz"
      ],
      "execution_count": null,
      "outputs": [
        {
          "output_type": "execute_result",
          "data": {
            "text/html": [
              "<div>\n",
              "<style scoped>\n",
              "    .dataframe tbody tr th:only-of-type {\n",
              "        vertical-align: middle;\n",
              "    }\n",
              "\n",
              "    .dataframe tbody tr th {\n",
              "        vertical-align: top;\n",
              "    }\n",
              "\n",
              "    .dataframe thead th {\n",
              "        text-align: right;\n",
              "    }\n",
              "</style>\n",
              "<table border=\"1\" class=\"dataframe\">\n",
              "  <thead>\n",
              "    <tr style=\"text-align: right;\">\n",
              "      <th></th>\n",
              "      <th>Radius</th>\n",
              "      <th>Texture</th>\n",
              "      <th>Perimeter</th>\n",
              "      <th>Area</th>\n",
              "      <th>Smoothness</th>\n",
              "      <th>Compactness</th>\n",
              "      <th>Concavity</th>\n",
              "      <th>ConcavePoints</th>\n",
              "      <th>Symmetry</th>\n",
              "      <th>FractalDimension</th>\n",
              "    </tr>\n",
              "  </thead>\n",
              "  <tbody>\n",
              "    <tr>\n",
              "      <th>Radius</th>\n",
              "      <td>1.000000</td>\n",
              "      <td>0.323782</td>\n",
              "      <td>0.997855</td>\n",
              "      <td>0.987357</td>\n",
              "      <td>0.170581</td>\n",
              "      <td>0.506124</td>\n",
              "      <td>0.676764</td>\n",
              "      <td>0.822529</td>\n",
              "      <td>0.147741</td>\n",
              "      <td>-0.311631</td>\n",
              "    </tr>\n",
              "    <tr>\n",
              "      <th>Texture</th>\n",
              "      <td>0.323782</td>\n",
              "      <td>1.000000</td>\n",
              "      <td>0.329533</td>\n",
              "      <td>0.321086</td>\n",
              "      <td>-0.023389</td>\n",
              "      <td>0.236702</td>\n",
              "      <td>0.302418</td>\n",
              "      <td>0.293464</td>\n",
              "      <td>0.071401</td>\n",
              "      <td>-0.076437</td>\n",
              "    </tr>\n",
              "    <tr>\n",
              "      <th>Perimeter</th>\n",
              "      <td>0.997855</td>\n",
              "      <td>0.329533</td>\n",
              "      <td>1.000000</td>\n",
              "      <td>0.986507</td>\n",
              "      <td>0.207278</td>\n",
              "      <td>0.556936</td>\n",
              "      <td>0.716136</td>\n",
              "      <td>0.850977</td>\n",
              "      <td>0.183027</td>\n",
              "      <td>-0.261477</td>\n",
              "    </tr>\n",
              "    <tr>\n",
              "      <th>Area</th>\n",
              "      <td>0.987357</td>\n",
              "      <td>0.321086</td>\n",
              "      <td>0.986507</td>\n",
              "      <td>1.000000</td>\n",
              "      <td>0.177028</td>\n",
              "      <td>0.498502</td>\n",
              "      <td>0.685983</td>\n",
              "      <td>0.823269</td>\n",
              "      <td>0.151293</td>\n",
              "      <td>-0.283110</td>\n",
              "    </tr>\n",
              "    <tr>\n",
              "      <th>Smoothness</th>\n",
              "      <td>0.170581</td>\n",
              "      <td>-0.023389</td>\n",
              "      <td>0.207278</td>\n",
              "      <td>0.177028</td>\n",
              "      <td>1.000000</td>\n",
              "      <td>0.659123</td>\n",
              "      <td>0.521984</td>\n",
              "      <td>0.553695</td>\n",
              "      <td>0.557775</td>\n",
              "      <td>0.584792</td>\n",
              "    </tr>\n",
              "    <tr>\n",
              "      <th>Compactness</th>\n",
              "      <td>0.506124</td>\n",
              "      <td>0.236702</td>\n",
              "      <td>0.556936</td>\n",
              "      <td>0.498502</td>\n",
              "      <td>0.659123</td>\n",
              "      <td>1.000000</td>\n",
              "      <td>0.883121</td>\n",
              "      <td>0.831135</td>\n",
              "      <td>0.602641</td>\n",
              "      <td>0.565369</td>\n",
              "    </tr>\n",
              "    <tr>\n",
              "      <th>Concavity</th>\n",
              "      <td>0.676764</td>\n",
              "      <td>0.302418</td>\n",
              "      <td>0.716136</td>\n",
              "      <td>0.685983</td>\n",
              "      <td>0.521984</td>\n",
              "      <td>0.883121</td>\n",
              "      <td>1.000000</td>\n",
              "      <td>0.921391</td>\n",
              "      <td>0.500667</td>\n",
              "      <td>0.336783</td>\n",
              "    </tr>\n",
              "    <tr>\n",
              "      <th>ConcavePoints</th>\n",
              "      <td>0.822529</td>\n",
              "      <td>0.293464</td>\n",
              "      <td>0.850977</td>\n",
              "      <td>0.823269</td>\n",
              "      <td>0.553695</td>\n",
              "      <td>0.831135</td>\n",
              "      <td>0.921391</td>\n",
              "      <td>1.000000</td>\n",
              "      <td>0.462497</td>\n",
              "      <td>0.166917</td>\n",
              "    </tr>\n",
              "    <tr>\n",
              "      <th>Symmetry</th>\n",
              "      <td>0.147741</td>\n",
              "      <td>0.071401</td>\n",
              "      <td>0.183027</td>\n",
              "      <td>0.151293</td>\n",
              "      <td>0.557775</td>\n",
              "      <td>0.602641</td>\n",
              "      <td>0.500667</td>\n",
              "      <td>0.462497</td>\n",
              "      <td>1.000000</td>\n",
              "      <td>0.479921</td>\n",
              "    </tr>\n",
              "    <tr>\n",
              "      <th>FractalDimension</th>\n",
              "      <td>-0.311631</td>\n",
              "      <td>-0.076437</td>\n",
              "      <td>-0.261477</td>\n",
              "      <td>-0.283110</td>\n",
              "      <td>0.584792</td>\n",
              "      <td>0.565369</td>\n",
              "      <td>0.336783</td>\n",
              "      <td>0.166917</td>\n",
              "      <td>0.479921</td>\n",
              "      <td>1.000000</td>\n",
              "    </tr>\n",
              "  </tbody>\n",
              "</table>\n",
              "</div>"
            ],
            "text/plain": [
              "                    Radius   Texture  ...  Symmetry  FractalDimension\n",
              "Radius            1.000000  0.323782  ...  0.147741         -0.311631\n",
              "Texture           0.323782  1.000000  ...  0.071401         -0.076437\n",
              "Perimeter         0.997855  0.329533  ...  0.183027         -0.261477\n",
              "Area              0.987357  0.321086  ...  0.151293         -0.283110\n",
              "Smoothness        0.170581 -0.023389  ...  0.557775          0.584792\n",
              "Compactness       0.506124  0.236702  ...  0.602641          0.565369\n",
              "Concavity         0.676764  0.302418  ...  0.500667          0.336783\n",
              "ConcavePoints     0.822529  0.293464  ...  0.462497          0.166917\n",
              "Symmetry          0.147741  0.071401  ...  1.000000          0.479921\n",
              "FractalDimension -0.311631 -0.076437  ...  0.479921          1.000000\n",
              "\n",
              "[10 rows x 10 columns]"
            ]
          },
          "metadata": {
            "tags": []
          },
          "execution_count": 15
        }
      ]
    },
    {
      "cell_type": "code",
      "metadata": {
        "colab": {
          "base_uri": "https://localhost:8080/",
          "height": 632
        },
        "id": "1ti7PCDBa9Un",
        "outputId": "83bc2a32-0f14-42de-94d0-88032c34183d"
      },
      "source": [
        "plt.figure(figsize = (20,10))\n",
        "sb.heatmap(Matriz, annot = True)    #Heatmap es útil para una representación gráfica de datos en colores"
      ],
      "execution_count": null,
      "outputs": [
        {
          "output_type": "execute_result",
          "data": {
            "text/plain": [
              "<matplotlib.axes._subplots.AxesSubplot at 0x7f315655d710>"
            ]
          },
          "metadata": {
            "tags": []
          },
          "execution_count": 16
        },
        {
          "output_type": "display_data",
          "data": {
            "image/png": "[encoded data removed]",
            "text/plain": [
              "<Figure size 1440x720 with 2 Axes>"
            ]
          },
          "metadata": {
            "tags": [],
            "needs_background": "light"
          }
        }
      ]
    },
    {
      "cell_type": "markdown",
      "metadata": {
        "id": "XBvBIFuabF_q"
      },
      "source": [
        "**Varibles seleccionadas:**\n",
        "\n",
        "1) Textura [Posición 3]\n",
        "\n",
        "2) Area [Posición 5]\n",
        "\n",
        "3) Compactness [Posición 7]\n",
        "\n",
        "4) Concavity [Posición 8]\n",
        "\n",
        "5) Symmetry [Posición 10]\n",
        "\n",
        "6) FractalDimension [Posición 11]\n",
        "\n",
        "**Referencia:** Lámina 44 de la presentación '9 MD_SelecciónCaracterísticas.pdf'"
      ]
    },
    {
      "cell_type": "code",
      "metadata": {
        "colab": {
          "base_uri": "https://localhost:8080/"
        },
        "id": "P-IItaDkbrAv",
        "outputId": "5617a076-3482-41b9-e85d-abe4ecbadc54"
      },
      "source": [
        "VariablesModelo = BreastCancer.iloc[:, [3, 5, 7, 8, 10, 11]].values  #iloc se utiliza para seleccionar filas y columnas según su ubicación\n",
        "VariablesModelo"
      ],
      "execution_count": null,
      "outputs": [
        {
          "output_type": "execute_result",
          "data": {
            "text/plain": [
              "array([[1.038e+01, 1.001e+03, 2.776e-01, 3.001e-01, 2.419e-01, 7.871e-02],\n",
              "       [1.777e+01, 1.326e+03, 7.864e-02, 8.690e-02, 1.812e-01, 5.667e-02],\n",
              "       [2.125e+01, 1.203e+03, 1.599e-01, 1.974e-01, 2.069e-01, 5.999e-02],\n",
              "       ...,\n",
              "       [2.808e+01, 8.581e+02, 1.023e-01, 9.251e-02, 1.590e-01, 5.648e-02],\n",
              "       [2.933e+01, 1.265e+03, 2.770e-01, 3.514e-01, 2.397e-01, 7.016e-02],\n",
              "       [2.454e+01, 1.810e+02, 4.362e-02, 0.000e+00, 1.587e-01, 5.884e-02]])"
            ]
          },
          "metadata": {
            "tags": []
          },
          "execution_count": 17
        }
      ]
    },
    {
      "cell_type": "code",
      "metadata": {
        "colab": {
          "base_uri": "https://localhost:8080/"
        },
        "id": "sBdJUKWMcZK4",
        "outputId": "37d810e1-afff-409b-ce3c-ac3933c6a077"
      },
      "source": [
        "VariablesModelo2 = np.array(BreastCancer[['Texture', 'Area', 'Compactness','Concavity', 'Symmetry', 'FractalDimension']])\n",
        "VariablesModelo2"
      ],
      "execution_count": null,
      "outputs": [
        {
          "output_type": "execute_result",
          "data": {
            "text/plain": [
              "array([[1.038e+01, 1.001e+03, 2.776e-01, 3.001e-01, 2.419e-01, 7.871e-02],\n",
              "       [1.777e+01, 1.326e+03, 7.864e-02, 8.690e-02, 1.812e-01, 5.667e-02],\n",
              "       [2.125e+01, 1.203e+03, 1.599e-01, 1.974e-01, 2.069e-01, 5.999e-02],\n",
              "       ...,\n",
              "       [2.808e+01, 8.581e+02, 1.023e-01, 9.251e-02, 1.590e-01, 5.648e-02],\n",
              "       [2.933e+01, 1.265e+03, 2.770e-01, 3.514e-01, 2.397e-01, 7.016e-02],\n",
              "       [2.454e+01, 1.810e+02, 4.362e-02, 0.000e+00, 1.587e-01, 5.884e-02]])"
            ]
          },
          "metadata": {
            "tags": []
          },
          "execution_count": 18
        }
      ]
    },
    {
      "cell_type": "code",
      "metadata": {
        "colab": {
          "base_uri": "https://localhost:8080/"
        },
        "id": "Tu0ibrcheT8Q",
        "outputId": "c4666bdc-e0c6-4266-af94-58fd0235d75d"
      },
      "source": [
        "VariablesModelo.shape"
      ],
      "execution_count": null,
      "outputs": [
        {
          "output_type": "execute_result",
          "data": {
            "text/plain": [
              "(569, 6)"
            ]
          },
          "metadata": {
            "tags": []
          },
          "execution_count": 19
        }
      ]
    },
    {
      "cell_type": "code",
      "metadata": {
        "colab": {
          "base_uri": "https://localhost:8080/",
          "height": 416
        },
        "id": "ITZFh4_qeXDl",
        "outputId": "c0a846b3-bcf8-471d-992f-3525d5756fb7"
      },
      "source": [
        "pd.DataFrame(VariablesModelo)"
      ],
      "execution_count": null,
      "outputs": [
        {
          "output_type": "execute_result",
          "data": {
            "text/html": [
              "<div>\n",
              "<style scoped>\n",
              "    .dataframe tbody tr th:only-of-type {\n",
              "        vertical-align: middle;\n",
              "    }\n",
              "\n",
              "    .dataframe tbody tr th {\n",
              "        vertical-align: top;\n",
              "    }\n",
              "\n",
              "    .dataframe thead th {\n",
              "        text-align: right;\n",
              "    }\n",
              "</style>\n",
              "<table border=\"1\" class=\"dataframe\">\n",
              "  <thead>\n",
              "    <tr style=\"text-align: right;\">\n",
              "      <th></th>\n",
              "      <th>0</th>\n",
              "      <th>1</th>\n",
              "      <th>2</th>\n",
              "      <th>3</th>\n",
              "      <th>4</th>\n",
              "      <th>5</th>\n",
              "    </tr>\n",
              "  </thead>\n",
              "  <tbody>\n",
              "    <tr>\n",
              "      <th>0</th>\n",
              "      <td>10.38</td>\n",
              "      <td>1001.0</td>\n",
              "      <td>0.27760</td>\n",
              "      <td>0.30010</td>\n",
              "      <td>0.2419</td>\n",
              "      <td>0.07871</td>\n",
              "    </tr>\n",
              "    <tr>\n",
              "      <th>1</th>\n",
              "      <td>17.77</td>\n",
              "      <td>1326.0</td>\n",
              "      <td>0.07864</td>\n",
              "      <td>0.08690</td>\n",
              "      <td>0.1812</td>\n",
              "      <td>0.05667</td>\n",
              "    </tr>\n",
              "    <tr>\n",
              "      <th>2</th>\n",
              "      <td>21.25</td>\n",
              "      <td>1203.0</td>\n",
              "      <td>0.15990</td>\n",
              "      <td>0.19740</td>\n",
              "      <td>0.2069</td>\n",
              "      <td>0.05999</td>\n",
              "    </tr>\n",
              "    <tr>\n",
              "      <th>3</th>\n",
              "      <td>20.38</td>\n",
              "      <td>386.1</td>\n",
              "      <td>0.28390</td>\n",
              "      <td>0.24140</td>\n",
              "      <td>0.2597</td>\n",
              "      <td>0.09744</td>\n",
              "    </tr>\n",
              "    <tr>\n",
              "      <th>4</th>\n",
              "      <td>14.34</td>\n",
              "      <td>1297.0</td>\n",
              "      <td>0.13280</td>\n",
              "      <td>0.19800</td>\n",
              "      <td>0.1809</td>\n",
              "      <td>0.05883</td>\n",
              "    </tr>\n",
              "    <tr>\n",
              "      <th>...</th>\n",
              "      <td>...</td>\n",
              "      <td>...</td>\n",
              "      <td>...</td>\n",
              "      <td>...</td>\n",
              "      <td>...</td>\n",
              "      <td>...</td>\n",
              "    </tr>\n",
              "    <tr>\n",
              "      <th>564</th>\n",
              "      <td>22.39</td>\n",
              "      <td>1479.0</td>\n",
              "      <td>0.11590</td>\n",
              "      <td>0.24390</td>\n",
              "      <td>0.1726</td>\n",
              "      <td>0.05623</td>\n",
              "    </tr>\n",
              "    <tr>\n",
              "      <th>565</th>\n",
              "      <td>28.25</td>\n",
              "      <td>1261.0</td>\n",
              "      <td>0.10340</td>\n",
              "      <td>0.14400</td>\n",
              "      <td>0.1752</td>\n",
              "      <td>0.05533</td>\n",
              "    </tr>\n",
              "    <tr>\n",
              "      <th>566</th>\n",
              "      <td>28.08</td>\n",
              "      <td>858.1</td>\n",
              "      <td>0.10230</td>\n",
              "      <td>0.09251</td>\n",
              "      <td>0.1590</td>\n",
              "      <td>0.05648</td>\n",
              "    </tr>\n",
              "    <tr>\n",
              "      <th>567</th>\n",
              "      <td>29.33</td>\n",
              "      <td>1265.0</td>\n",
              "      <td>0.27700</td>\n",
              "      <td>0.35140</td>\n",
              "      <td>0.2397</td>\n",
              "      <td>0.07016</td>\n",
              "    </tr>\n",
              "    <tr>\n",
              "      <th>568</th>\n",
              "      <td>24.54</td>\n",
              "      <td>181.0</td>\n",
              "      <td>0.04362</td>\n",
              "      <td>0.00000</td>\n",
              "      <td>0.1587</td>\n",
              "      <td>0.05884</td>\n",
              "    </tr>\n",
              "  </tbody>\n",
              "</table>\n",
              "<p>569 rows × 6 columns</p>\n",
              "</div>"
            ],
            "text/plain": [
              "         0       1        2        3       4        5\n",
              "0    10.38  1001.0  0.27760  0.30010  0.2419  0.07871\n",
              "1    17.77  1326.0  0.07864  0.08690  0.1812  0.05667\n",
              "2    21.25  1203.0  0.15990  0.19740  0.2069  0.05999\n",
              "3    20.38   386.1  0.28390  0.24140  0.2597  0.09744\n",
              "4    14.34  1297.0  0.13280  0.19800  0.1809  0.05883\n",
              "..     ...     ...      ...      ...     ...      ...\n",
              "564  22.39  1479.0  0.11590  0.24390  0.1726  0.05623\n",
              "565  28.25  1261.0  0.10340  0.14400  0.1752  0.05533\n",
              "566  28.08   858.1  0.10230  0.09251  0.1590  0.05648\n",
              "567  29.33  1265.0  0.27700  0.35140  0.2397  0.07016\n",
              "568  24.54   181.0  0.04362  0.00000  0.1587  0.05884\n",
              "\n",
              "[569 rows x 6 columns]"
            ]
          },
          "metadata": {
            "tags": []
          },
          "execution_count": 20
        }
      ]
    },
    {
      "cell_type": "markdown",
      "metadata": {
        "id": "1Nu8INMYXjlf"
      },
      "source": [
        "### **II. Clustering Jerárquico**\n",
        "\n",
        "Algoritmo: Jerárquico Ascendente "
      ]
    },
    {
      "cell_type": "code",
      "metadata": {
        "id": "pRvi3bMWebIJ"
      },
      "source": [
        "#Se importan las bibliotecas de clustering jerárquico\n",
        "import scipy.cluster.hierarchy as shc\n",
        "from sklearn.cluster import AgglomerativeClustering"
      ],
      "execution_count": null,
      "outputs": []
    },
    {
      "cell_type": "code",
      "metadata": {
        "colab": {
          "base_uri": "https://localhost:8080/",
          "height": 476
        },
        "id": "alL9hi5ceflF",
        "outputId": "a812f9f1-b1f5-4c63-8238-2c483fd3150d"
      },
      "source": [
        "#Se crea el árbol\n",
        "plt.figure(figsize=(10, 7))\n",
        "plt.title(\"Pacientes con cáncer de mama\")\n",
        "plt.xlabel('Observaciones')\n",
        "plt.ylabel('Distancia')\n",
        "Arbol = shc.dendrogram(shc.linkage(VariablesModelo, method='complete'))\n",
        "plt.axhline(y=750, color='orange', linestyle='--')"
      ],
      "execution_count": null,
      "outputs": [
        {
          "output_type": "execute_result",
          "data": {
            "text/plain": [
              "<matplotlib.lines.Line2D at 0x7f314bf255c0>"
            ]
          },
          "metadata": {
            "tags": []
          },
          "execution_count": 22
        },
        {
          "output_type": "display_data",
          "data": {
            "image/png": "[encoded data removed]",
            "text/plain": [
              "<Figure size 720x504 with 1 Axes>"
            ]
          },
          "metadata": {
            "tags": [],
            "needs_background": "light"
          }
        }
      ]
    },
    {
      "cell_type": "code",
      "metadata": {
        "colab": {
          "base_uri": "https://localhost:8080/"
        },
        "id": "pexYb6aOfpkk",
        "outputId": "1c816cef-cb4f-412b-e33c-e094d365d9a4"
      },
      "source": [
        "#Se crean los clusters\n",
        "MJerarquico = AgglomerativeClustering(n_clusters=5, affinity='euclidean', linkage='complete')\n",
        "MJerarquico.fit_predict(VariablesModelo)\n",
        "MJerarquico.labels_"
      ],
      "execution_count": null,
      "outputs": [
        {
          "output_type": "execute_result",
          "data": {
            "text/plain": [
              "array([1, 3, 3, 4, 3, 4, 3, 1, 1, 4, 1, 1, 3, 1, 1, 1, 1, 1, 3, 1, 1, 4,\n",
              "       1, 3, 1, 1, 1, 3, 1, 1, 3, 4, 1, 3, 1, 1, 1, 1, 1, 1, 1, 4, 3, 1,\n",
              "       1, 3, 4, 1, 4, 1, 4, 1, 4, 3, 1, 4, 3, 1, 1, 4, 4, 4, 1, 4, 1, 1,\n",
              "       4, 4, 4, 1, 3, 4, 1, 1, 4, 1, 1, 1, 3, 1, 4, 1, 0, 3, 4, 3, 1, 3,\n",
              "       4, 1, 1, 1, 1, 1, 1, 3, 4, 4, 4, 1, 1, 4, 4, 4, 4, 1, 4, 4, 0, 4,\n",
              "       4, 4, 1, 4, 4, 4, 4, 1, 1, 1, 4, 3, 0, 1, 1, 1, 1, 3, 1, 3, 4, 1,\n",
              "       1, 1, 3, 1, 4, 4, 1, 4, 4, 1, 4, 1, 4, 4, 4, 1, 1, 1, 1, 4, 4, 4,\n",
              "       1, 4, 1, 1, 4, 4, 4, 3, 3, 4, 0, 1, 4, 1, 1, 1, 4, 1, 1, 4, 4, 4,\n",
              "       4, 1, 1, 1, 2, 3, 1, 4, 1, 4, 3, 4, 4, 4, 1, 1, 4, 4, 1, 1, 1, 3,\n",
              "       3, 1, 4, 1, 0, 1, 4, 1, 4, 1, 1, 1, 3, 4, 2, 1, 1, 1, 4, 4, 3, 3,\n",
              "       1, 1, 4, 1, 1, 1, 4, 1, 1, 1, 1, 4, 4, 3, 4, 1, 0, 3, 1, 1, 1, 4,\n",
              "       4, 1, 3, 4, 1, 1, 4, 4, 3, 4, 3, 1, 3, 1, 3, 1, 1, 1, 3, 1, 1, 1,\n",
              "       1, 3, 4, 1, 1, 4, 1, 4, 0, 4, 1, 4, 4, 3, 1, 1, 3, 4, 3, 1, 1, 1,\n",
              "       4, 1, 4, 4, 1, 1, 1, 4, 1, 1, 4, 4, 1, 4, 3, 4, 3, 4, 4, 4, 1, 4,\n",
              "       1, 1, 4, 1, 1, 4, 4, 4, 4, 3, 4, 4, 4, 3, 1, 3, 4, 1, 1, 4, 1, 1,\n",
              "       1, 1, 4, 4, 4, 1, 1, 3, 4, 0, 1, 4, 4, 3, 4, 4, 4, 1, 4, 4, 4, 1,\n",
              "       0, 1, 4, 1, 1, 1, 4, 4, 1, 1, 1, 1, 1, 3, 3, 4, 0, 0, 1, 1, 3, 3,\n",
              "       1, 1, 4, 1, 1, 4, 4, 4, 4, 4, 1, 1, 4, 1, 4, 3, 4, 4, 1, 3, 4, 1,\n",
              "       1, 1, 4, 4, 1, 4, 1, 1, 4, 4, 1, 1, 1, 4, 4, 4, 4, 1, 1, 4, 4, 1,\n",
              "       1, 4, 4, 1, 4, 1, 4, 4, 4, 4, 4, 1, 1, 4, 3, 3, 1, 1, 1, 1, 1, 1,\n",
              "       4, 1, 1, 4, 1, 4, 1, 1, 1, 3, 4, 3, 4, 1, 1, 1, 4, 1, 1, 4, 1, 2,\n",
              "       1, 4, 1, 1, 1, 4, 1, 4, 4, 4, 1, 4, 4, 1, 1, 1, 4, 1, 4, 1, 1, 1,\n",
              "       1, 4, 1, 3, 4, 1, 4, 1, 1, 4, 1, 1, 1, 4, 3, 3, 1, 1, 4, 0, 4, 4,\n",
              "       4, 4, 1, 1, 4, 1, 1, 1, 1, 4, 3, 3, 1, 1, 4, 0, 4, 1, 4, 4, 1, 4,\n",
              "       1, 4, 4, 4, 1, 3, 4, 3, 1, 4, 4, 4, 4, 1, 1, 1, 1, 1, 4, 4, 4, 4,\n",
              "       4, 4, 1, 4, 1, 4, 4, 4, 1, 4, 1, 4, 1, 3, 0, 3, 1, 3, 4])"
            ]
          },
          "metadata": {
            "tags": []
          },
          "execution_count": 23
        }
      ]
    },
    {
      "cell_type": "code",
      "metadata": {
        "colab": {
          "base_uri": "https://localhost:8080/",
          "height": 416
        },
        "id": "hKYlDbKfgqkG",
        "outputId": "e7e517ba-19d7-4d2f-9deb-2f0453ee78b1"
      },
      "source": [
        "pd.DataFrame(MJerarquico.labels_)"
      ],
      "execution_count": null,
      "outputs": [
        {
          "output_type": "execute_result",
          "data": {
            "text/html": [
              "<div>\n",
              "<style scoped>\n",
              "    .dataframe tbody tr th:only-of-type {\n",
              "        vertical-align: middle;\n",
              "    }\n",
              "\n",
              "    .dataframe tbody tr th {\n",
              "        vertical-align: top;\n",
              "    }\n",
              "\n",
              "    .dataframe thead th {\n",
              "        text-align: right;\n",
              "    }\n",
              "</style>\n",
              "<table border=\"1\" class=\"dataframe\">\n",
              "  <thead>\n",
              "    <tr style=\"text-align: right;\">\n",
              "      <th></th>\n",
              "      <th>0</th>\n",
              "    </tr>\n",
              "  </thead>\n",
              "  <tbody>\n",
              "    <tr>\n",
              "      <th>0</th>\n",
              "      <td>1</td>\n",
              "    </tr>\n",
              "    <tr>\n",
              "      <th>1</th>\n",
              "      <td>3</td>\n",
              "    </tr>\n",
              "    <tr>\n",
              "      <th>2</th>\n",
              "      <td>3</td>\n",
              "    </tr>\n",
              "    <tr>\n",
              "      <th>3</th>\n",
              "      <td>4</td>\n",
              "    </tr>\n",
              "    <tr>\n",
              "      <th>4</th>\n",
              "      <td>3</td>\n",
              "    </tr>\n",
              "    <tr>\n",
              "      <th>...</th>\n",
              "      <td>...</td>\n",
              "    </tr>\n",
              "    <tr>\n",
              "      <th>564</th>\n",
              "      <td>0</td>\n",
              "    </tr>\n",
              "    <tr>\n",
              "      <th>565</th>\n",
              "      <td>3</td>\n",
              "    </tr>\n",
              "    <tr>\n",
              "      <th>566</th>\n",
              "      <td>1</td>\n",
              "    </tr>\n",
              "    <tr>\n",
              "      <th>567</th>\n",
              "      <td>3</td>\n",
              "    </tr>\n",
              "    <tr>\n",
              "      <th>568</th>\n",
              "      <td>4</td>\n",
              "    </tr>\n",
              "  </tbody>\n",
              "</table>\n",
              "<p>569 rows × 1 columns</p>\n",
              "</div>"
            ],
            "text/plain": [
              "     0\n",
              "0    1\n",
              "1    3\n",
              "2    3\n",
              "3    4\n",
              "4    3\n",
              "..  ..\n",
              "564  0\n",
              "565  3\n",
              "566  1\n",
              "567  3\n",
              "568  4\n",
              "\n",
              "[569 rows x 1 columns]"
            ]
          },
          "metadata": {
            "tags": []
          },
          "execution_count": 24
        }
      ]
    },
    {
      "cell_type": "code",
      "metadata": {
        "colab": {
          "base_uri": "https://localhost:8080/",
          "height": 488
        },
        "id": "sJjritvegwQR",
        "outputId": "6ed5be88-3c8c-46a5-f6e9-4c9f9d1a2746"
      },
      "source": [
        "BreastCancer['clusterH'] = MJerarquico.labels_\n",
        "BreastCancer"
      ],
      "execution_count": null,
      "outputs": [
        {
          "output_type": "execute_result",
          "data": {
            "text/html": [
              "<div>\n",
              "<style scoped>\n",
              "    .dataframe tbody tr th:only-of-type {\n",
              "        vertical-align: middle;\n",
              "    }\n",
              "\n",
              "    .dataframe tbody tr th {\n",
              "        vertical-align: top;\n",
              "    }\n",
              "\n",
              "    .dataframe thead th {\n",
              "        text-align: right;\n",
              "    }\n",
              "</style>\n",
              "<table border=\"1\" class=\"dataframe\">\n",
              "  <thead>\n",
              "    <tr style=\"text-align: right;\">\n",
              "      <th></th>\n",
              "      <th>IDNumber</th>\n",
              "      <th>Diagnosis</th>\n",
              "      <th>Radius</th>\n",
              "      <th>Texture</th>\n",
              "      <th>Perimeter</th>\n",
              "      <th>Area</th>\n",
              "      <th>Smoothness</th>\n",
              "      <th>Compactness</th>\n",
              "      <th>Concavity</th>\n",
              "      <th>ConcavePoints</th>\n",
              "      <th>Symmetry</th>\n",
              "      <th>FractalDimension</th>\n",
              "      <th>clusterH</th>\n",
              "    </tr>\n",
              "  </thead>\n",
              "  <tbody>\n",
              "    <tr>\n",
              "      <th>0</th>\n",
              "      <td>P-842302</td>\n",
              "      <td>M</td>\n",
              "      <td>17.99</td>\n",
              "      <td>10.38</td>\n",
              "      <td>122.80</td>\n",
              "      <td>1001.0</td>\n",
              "      <td>0.11840</td>\n",
              "      <td>0.27760</td>\n",
              "      <td>0.30010</td>\n",
              "      <td>0.14710</td>\n",
              "      <td>0.2419</td>\n",
              "      <td>0.07871</td>\n",
              "      <td>1</td>\n",
              "    </tr>\n",
              "    <tr>\n",
              "      <th>1</th>\n",
              "      <td>P-842517</td>\n",
              "      <td>M</td>\n",
              "      <td>20.57</td>\n",
              "      <td>17.77</td>\n",
              "      <td>132.90</td>\n",
              "      <td>1326.0</td>\n",
              "      <td>0.08474</td>\n",
              "      <td>0.07864</td>\n",
              "      <td>0.08690</td>\n",
              "      <td>0.07017</td>\n",
              "      <td>0.1812</td>\n",
              "      <td>0.05667</td>\n",
              "      <td>3</td>\n",
              "    </tr>\n",
              "    <tr>\n",
              "      <th>2</th>\n",
              "      <td>P-84300903</td>\n",
              "      <td>M</td>\n",
              "      <td>19.69</td>\n",
              "      <td>21.25</td>\n",
              "      <td>130.00</td>\n",
              "      <td>1203.0</td>\n",
              "      <td>0.10960</td>\n",
              "      <td>0.15990</td>\n",
              "      <td>0.19740</td>\n",
              "      <td>0.12790</td>\n",
              "      <td>0.2069</td>\n",
              "      <td>0.05999</td>\n",
              "      <td>3</td>\n",
              "    </tr>\n",
              "    <tr>\n",
              "      <th>3</th>\n",
              "      <td>P-84348301</td>\n",
              "      <td>M</td>\n",
              "      <td>11.42</td>\n",
              "      <td>20.38</td>\n",
              "      <td>77.58</td>\n",
              "      <td>386.1</td>\n",
              "      <td>0.14250</td>\n",
              "      <td>0.28390</td>\n",
              "      <td>0.24140</td>\n",
              "      <td>0.10520</td>\n",
              "      <td>0.2597</td>\n",
              "      <td>0.09744</td>\n",
              "      <td>4</td>\n",
              "    </tr>\n",
              "    <tr>\n",
              "      <th>4</th>\n",
              "      <td>P-84358402</td>\n",
              "      <td>M</td>\n",
              "      <td>20.29</td>\n",
              "      <td>14.34</td>\n",
              "      <td>135.10</td>\n",
              "      <td>1297.0</td>\n",
              "      <td>0.10030</td>\n",
              "      <td>0.13280</td>\n",
              "      <td>0.19800</td>\n",
              "      <td>0.10430</td>\n",
              "      <td>0.1809</td>\n",
              "      <td>0.05883</td>\n",
              "      <td>3</td>\n",
              "    </tr>\n",
              "    <tr>\n",
              "      <th>...</th>\n",
              "      <td>...</td>\n",
              "      <td>...</td>\n",
              "      <td>...</td>\n",
              "      <td>...</td>\n",
              "      <td>...</td>\n",
              "      <td>...</td>\n",
              "      <td>...</td>\n",
              "      <td>...</td>\n",
              "      <td>...</td>\n",
              "      <td>...</td>\n",
              "      <td>...</td>\n",
              "      <td>...</td>\n",
              "      <td>...</td>\n",
              "    </tr>\n",
              "    <tr>\n",
              "      <th>564</th>\n",
              "      <td>P-926424</td>\n",
              "      <td>M</td>\n",
              "      <td>21.56</td>\n",
              "      <td>22.39</td>\n",
              "      <td>142.00</td>\n",
              "      <td>1479.0</td>\n",
              "      <td>0.11100</td>\n",
              "      <td>0.11590</td>\n",
              "      <td>0.24390</td>\n",
              "      <td>0.13890</td>\n",
              "      <td>0.1726</td>\n",
              "      <td>0.05623</td>\n",
              "      <td>0</td>\n",
              "    </tr>\n",
              "    <tr>\n",
              "      <th>565</th>\n",
              "      <td>P-926682</td>\n",
              "      <td>M</td>\n",
              "      <td>20.13</td>\n",
              "      <td>28.25</td>\n",
              "      <td>131.20</td>\n",
              "      <td>1261.0</td>\n",
              "      <td>0.09780</td>\n",
              "      <td>0.10340</td>\n",
              "      <td>0.14400</td>\n",
              "      <td>0.09791</td>\n",
              "      <td>0.1752</td>\n",
              "      <td>0.05533</td>\n",
              "      <td>3</td>\n",
              "    </tr>\n",
              "    <tr>\n",
              "      <th>566</th>\n",
              "      <td>P-926954</td>\n",
              "      <td>M</td>\n",
              "      <td>16.60</td>\n",
              "      <td>28.08</td>\n",
              "      <td>108.30</td>\n",
              "      <td>858.1</td>\n",
              "      <td>0.08455</td>\n",
              "      <td>0.10230</td>\n",
              "      <td>0.09251</td>\n",
              "      <td>0.05302</td>\n",
              "      <td>0.1590</td>\n",
              "      <td>0.05648</td>\n",
              "      <td>1</td>\n",
              "    </tr>\n",
              "    <tr>\n",
              "      <th>567</th>\n",
              "      <td>P-927241</td>\n",
              "      <td>M</td>\n",
              "      <td>20.60</td>\n",
              "      <td>29.33</td>\n",
              "      <td>140.10</td>\n",
              "      <td>1265.0</td>\n",
              "      <td>0.11780</td>\n",
              "      <td>0.27700</td>\n",
              "      <td>0.35140</td>\n",
              "      <td>0.15200</td>\n",
              "      <td>0.2397</td>\n",
              "      <td>0.07016</td>\n",
              "      <td>3</td>\n",
              "    </tr>\n",
              "    <tr>\n",
              "      <th>568</th>\n",
              "      <td>P-92751</td>\n",
              "      <td>B</td>\n",
              "      <td>7.76</td>\n",
              "      <td>24.54</td>\n",
              "      <td>47.92</td>\n",
              "      <td>181.0</td>\n",
              "      <td>0.05263</td>\n",
              "      <td>0.04362</td>\n",
              "      <td>0.00000</td>\n",
              "      <td>0.00000</td>\n",
              "      <td>0.1587</td>\n",
              "      <td>0.05884</td>\n",
              "      <td>4</td>\n",
              "    </tr>\n",
              "  </tbody>\n",
              "</table>\n",
              "<p>569 rows × 13 columns</p>\n",
              "</div>"
            ],
            "text/plain": [
              "       IDNumber Diagnosis  Radius  ...  Symmetry  FractalDimension  clusterH\n",
              "0      P-842302         M   17.99  ...    0.2419           0.07871         1\n",
              "1      P-842517         M   20.57  ...    0.1812           0.05667         3\n",
              "2    P-84300903         M   19.69  ...    0.2069           0.05999         3\n",
              "3    P-84348301         M   11.42  ...    0.2597           0.09744         4\n",
              "4    P-84358402         M   20.29  ...    0.1809           0.05883         3\n",
              "..          ...       ...     ...  ...       ...               ...       ...\n",
              "564    P-926424         M   21.56  ...    0.1726           0.05623         0\n",
              "565    P-926682         M   20.13  ...    0.1752           0.05533         3\n",
              "566    P-926954         M   16.60  ...    0.1590           0.05648         1\n",
              "567    P-927241         M   20.60  ...    0.2397           0.07016         3\n",
              "568     P-92751         B    7.76  ...    0.1587           0.05884         4\n",
              "\n",
              "[569 rows x 13 columns]"
            ]
          },
          "metadata": {
            "tags": []
          },
          "execution_count": 25
        }
      ]
    },
    {
      "cell_type": "code",
      "metadata": {
        "colab": {
          "base_uri": "https://localhost:8080/"
        },
        "id": "ubh7M8g1gx70",
        "outputId": "9f724b28-dc46-4b9f-e4a2-d6fd13a56c7c"
      },
      "source": [
        "#Cantidad de elementos en los clusters\n",
        "BreastCancer.groupby(['clusterH'])['clusterH'].count()"
      ],
      "execution_count": null,
      "outputs": [
        {
          "output_type": "execute_result",
          "data": {
            "text/plain": [
              "clusterH\n",
              "0     14\n",
              "1    263\n",
              "2      3\n",
              "3     72\n",
              "4    217\n",
              "Name: clusterH, dtype: int64"
            ]
          },
          "metadata": {
            "tags": []
          },
          "execution_count": 26
        }
      ]
    },
    {
      "cell_type": "code",
      "metadata": {
        "colab": {
          "base_uri": "https://localhost:8080/",
          "height": 428
        },
        "id": "C0Y8S7YAhusr",
        "outputId": "9090245b-d45b-4458-a409-a1d5187f9300"
      },
      "source": [
        "plt.figure(figsize=(10, 7))\n",
        "plt.scatter(VariablesModelo[:,0], VariablesModelo[:,1], c=MJerarquico.labels_, cmap='rainbow')\n",
        "plt.grid()\n",
        "plt.show()"
      ],
      "execution_count": null,
      "outputs": [
        {
          "output_type": "display_data",
          "data": {
            "image/png": "[encoded data removed]",
            "text/plain": [
              "<Figure size 720x504 with 1 Axes>"
            ]
          },
          "metadata": {
            "tags": [],
            "needs_background": "light"
          }
        }
      ]
    },
    {
      "cell_type": "code",
      "metadata": {
        "colab": {
          "base_uri": "https://localhost:8080/",
          "height": 288
        },
        "id": "DzzPDojAh1TA",
        "outputId": "8cf5e470-5536-4fff-844d-5c3fd6388876"
      },
      "source": [
        "CentroidesH = BreastCancer.groupby(['clusterH'])['Texture', 'Area', 'Compactness','Concavity', 'Symmetry', 'FractalDimension'].mean()\n",
        "CentroidesH"
      ],
      "execution_count": null,
      "outputs": [
        {
          "output_type": "stream",
          "text": [
            "/usr/local/lib/python3.6/dist-packages/ipykernel_launcher.py:1: FutureWarning: Indexing with multiple keys (implicitly converted to a tuple of keys) will be deprecated, use a list instead.\n",
            "  \"\"\"Entry point for launching an IPython kernel.\n"
          ],
          "name": "stderr"
        },
        {
          "output_type": "execute_result",
          "data": {
            "text/html": [
              "<div>\n",
              "<style scoped>\n",
              "    .dataframe tbody tr th:only-of-type {\n",
              "        vertical-align: middle;\n",
              "    }\n",
              "\n",
              "    .dataframe tbody tr th {\n",
              "        vertical-align: top;\n",
              "    }\n",
              "\n",
              "    .dataframe thead th {\n",
              "        text-align: right;\n",
              "    }\n",
              "</style>\n",
              "<table border=\"1\" class=\"dataframe\">\n",
              "  <thead>\n",
              "    <tr style=\"text-align: right;\">\n",
              "      <th></th>\n",
              "      <th>Texture</th>\n",
              "      <th>Area</th>\n",
              "      <th>Compactness</th>\n",
              "      <th>Concavity</th>\n",
              "      <th>Symmetry</th>\n",
              "      <th>FractalDimension</th>\n",
              "    </tr>\n",
              "    <tr>\n",
              "      <th>clusterH</th>\n",
              "      <th></th>\n",
              "      <th></th>\n",
              "      <th></th>\n",
              "      <th></th>\n",
              "      <th></th>\n",
              "      <th></th>\n",
              "    </tr>\n",
              "  </thead>\n",
              "  <tbody>\n",
              "    <tr>\n",
              "      <th>0</th>\n",
              "      <td>21.867857</td>\n",
              "      <td>1676.214286</td>\n",
              "      <td>0.186916</td>\n",
              "      <td>0.261286</td>\n",
              "      <td>0.194193</td>\n",
              "      <td>0.061179</td>\n",
              "    </tr>\n",
              "    <tr>\n",
              "      <th>1</th>\n",
              "      <td>19.406274</td>\n",
              "      <td>661.572624</td>\n",
              "      <td>0.106559</td>\n",
              "      <td>0.088309</td>\n",
              "      <td>0.178629</td>\n",
              "      <td>0.061496</td>\n",
              "    </tr>\n",
              "    <tr>\n",
              "      <th>2</th>\n",
              "      <td>22.203333</td>\n",
              "      <td>2416.666667</td>\n",
              "      <td>0.180600</td>\n",
              "      <td>0.323567</td>\n",
              "      <td>0.183633</td>\n",
              "      <td>0.056393</td>\n",
              "    </tr>\n",
              "    <tr>\n",
              "      <th>3</th>\n",
              "      <td>22.009028</td>\n",
              "      <td>1202.805556</td>\n",
              "      <td>0.143579</td>\n",
              "      <td>0.172599</td>\n",
              "      <td>0.191032</td>\n",
              "      <td>0.059826</td>\n",
              "    </tr>\n",
              "    <tr>\n",
              "      <th>4</th>\n",
              "      <td>18.039401</td>\n",
              "      <td>374.743318</td>\n",
              "      <td>0.082252</td>\n",
              "      <td>0.047216</td>\n",
              "      <td>0.180082</td>\n",
              "      <td>0.065554</td>\n",
              "    </tr>\n",
              "  </tbody>\n",
              "</table>\n",
              "</div>"
            ],
            "text/plain": [
              "            Texture         Area  ...  Symmetry  FractalDimension\n",
              "clusterH                          ...                            \n",
              "0         21.867857  1676.214286  ...  0.194193          0.061179\n",
              "1         19.406274   661.572624  ...  0.178629          0.061496\n",
              "2         22.203333  2416.666667  ...  0.183633          0.056393\n",
              "3         22.009028  1202.805556  ...  0.191032          0.059826\n",
              "4         18.039401   374.743318  ...  0.180082          0.065554\n",
              "\n",
              "[5 rows x 6 columns]"
            ]
          },
          "metadata": {
            "tags": []
          },
          "execution_count": 28
        }
      ]
    },
    {
      "cell_type": "markdown",
      "metadata": {
        "id": "8Tv3QDlBjMBX"
      },
      "source": [
        "**Cluster 0:** 14 pacientes con indicios de cáncer maligno, con un área promedio de tumor de 1676 pixeles y una desviación estándar de textura de 21 pixeles. Aparentemente es un tumor compacto (0.18 pixeles), cuyo número de sectores de concavidad alcanza 0.26 pixeles, una simetría de 0.19 y una aproximación de frontera, dimensión fractal, promedio de 0.06 pixeles.\n",
        "\n",
        "\n",
        "**Cluster 1:** 263 pacientes con indicios de cáncer maligno, con un área promedio de tumor de 661 pixeles y una desviación estándar de textura de 19 pixeles. Aparentemente es un tumor compacto (0.18 pixeles), cuyo número de sectores de concavidad alcanza 0.08 pixeles, una simetría de 0.19 y una aproximación de frontera, dimensión fractal, promedio de 0.06 pixeles.\n",
        "\n",
        "**Cluster 2:** 3\n",
        "\n",
        "**Cluster 3:** 72\n",
        "\n",
        "**Cluster 4:** 217\n",
        "\n",
        "\n"
      ]
    },
    {
      "cell_type": "markdown",
      "metadata": {
        "id": "Tzv_8VigXr_H"
      },
      "source": [
        "### **III. Clustering particional**\n",
        "\n",
        "Algoritmo: k-means\n"
      ]
    },
    {
      "cell_type": "code",
      "metadata": {
        "id": "dj9KjpxOXxaa"
      },
      "source": [
        "#Se importan las bibliotecas\n",
        "from sklearn.cluster import KMeans\n",
        "from sklearn.metrics import pairwise_distances_argmin_min"
      ],
      "execution_count": null,
      "outputs": []
    },
    {
      "cell_type": "code",
      "metadata": {
        "id": "CrfMK8RSkKnl"
      },
      "source": [
        "SSE = []\n",
        "for i in range(2, 16):\n",
        "    km = KMeans(n_clusters=i, random_state=0)\n",
        "    km.fit(VariablesModelo)\n",
        "    SSE.append(km.inertia_)"
      ],
      "execution_count": null,
      "outputs": []
    },
    {
      "cell_type": "code",
      "metadata": {
        "colab": {
          "base_uri": "https://localhost:8080/",
          "height": 458
        },
        "id": "kZYnoIzCkUFA",
        "outputId": "195d0829-4647-4e90-98aa-c64c4b462b04"
      },
      "source": [
        "#Se grafica SSE en función de k\n",
        "plt.figure(figsize=(10, 7))\n",
        "plt.plot(range(2, 16), SSE, marker='o')\n",
        "plt.xlabel('Cantidad de clusters *k*')\n",
        "plt.ylabel('SSE')\n",
        "plt.title('Elbow Method')\n",
        "plt.show()"
      ],
      "execution_count": null,
      "outputs": [
        {
          "output_type": "display_data",
          "data": {
            "image/png": "[encoded data removed]",
            "text/plain": [
              "<Figure size 720x504 with 1 Axes>"
            ]
          },
          "metadata": {
            "tags": [],
            "needs_background": "light"
          }
        }
      ]
    },
    {
      "cell_type": "code",
      "metadata": {
        "colab": {
          "base_uri": "https://localhost:8080/"
        },
        "id": "yZ8a_tZWkYiB",
        "outputId": "a14d2c50-8391-411c-cb5c-007f2ffa5dfa"
      },
      "source": [
        "!pip install kneed"
      ],
      "execution_count": null,
      "outputs": [
        {
          "output_type": "stream",
          "text": [
            "Collecting kneed\n",
            "  Downloading https://files.pythonhosted.org/packages/c3/6b/e130913aaaad1373060e259ab222ca2330672db696b297b082c3f3089fcc/kneed-0.7.0-py2.py3-none-any.whl\n",
            "Requirement already satisfied: numpy>=1.14.2 in /usr/local/lib/python3.6/dist-packages (from kneed) (1.18.5)\n",
            "Requirement already satisfied: scipy in /usr/local/lib/python3.6/dist-packages (from kneed) (1.4.1)\n",
            "Requirement already satisfied: matplotlib in /usr/local/lib/python3.6/dist-packages (from kneed) (3.2.2)\n",
            "Requirement already satisfied: kiwisolver>=1.0.1 in /usr/local/lib/python3.6/dist-packages (from matplotlib->kneed) (1.3.1)\n",
            "Requirement already satisfied: pyparsing!=2.0.4,!=2.1.2,!=2.1.6,>=2.0.1 in /usr/local/lib/python3.6/dist-packages (from matplotlib->kneed) (2.4.7)\n",
            "Requirement already satisfied: python-dateutil>=2.1 in /usr/local/lib/python3.6/dist-packages (from matplotlib->kneed) (2.8.1)\n",
            "Requirement already satisfied: cycler>=0.10 in /usr/local/lib/python3.6/dist-packages (from matplotlib->kneed) (0.10.0)\n",
            "Requirement already satisfied: six>=1.5 in /usr/local/lib/python3.6/dist-packages (from python-dateutil>=2.1->matplotlib->kneed) (1.15.0)\n",
            "Installing collected packages: kneed\n",
            "Successfully installed kneed-0.7.0\n"
          ],
          "name": "stdout"
        }
      ]
    },
    {
      "cell_type": "code",
      "metadata": {
        "colab": {
          "base_uri": "https://localhost:8080/"
        },
        "id": "fo2TWttcmKxv",
        "outputId": "7b2ba8ae-cbf2-4c3d-a635-331fe3e4f328"
      },
      "source": [
        "from kneed import KneeLocator       #https://github.com/arvkevi/kneed/blob/master/kneed/   Utiliza una interpolación\n",
        "kl = KneeLocator(range(2, 16), SSE, curve=\"convex\", direction=\"decreasing\")\n",
        "kl.elbow"
      ],
      "execution_count": null,
      "outputs": [
        {
          "output_type": "execute_result",
          "data": {
            "text/plain": [
              "5"
            ]
          },
          "metadata": {
            "tags": []
          },
          "execution_count": 35
        }
      ]
    },
    {
      "cell_type": "code",
      "metadata": {
        "colab": {
          "base_uri": "https://localhost:8080/"
        },
        "id": "FtmTdUf8mOJz",
        "outputId": "af87c073-e1a7-4e68-b08e-1aba1326882f"
      },
      "source": [
        "#Se crean los clusters \n",
        "#random_state se utiliza para inicializar el generador interno de números aleatorios (mismo resultado)\n",
        "MParticional = KMeans(n_clusters=5, random_state=0).fit(VariablesModelo)\n",
        "MParticional.predict(VariablesModelo)\n",
        "MParticional.labels_"
      ],
      "execution_count": null,
      "outputs": [
        {
          "output_type": "execute_result",
          "data": {
            "text/plain": [
              "array([4, 2, 2, 1, 2, 3, 4, 3, 3, 3, 4, 4, 2, 4, 3, 3, 3, 4, 2, 3, 3, 1,\n",
              "       3, 2, 4, 4, 3, 2, 4, 4, 2, 1, 4, 2, 4, 4, 3, 3, 3, 3, 3, 1, 2, 3,\n",
              "       3, 2, 1, 3, 1, 3, 1, 3, 1, 4, 3, 1, 2, 3, 3, 1, 1, 1, 3, 1, 3, 3,\n",
              "       1, 1, 1, 3, 2, 1, 4, 3, 1, 4, 3, 4, 2, 3, 1, 3, 0, 2, 1, 2, 3, 2,\n",
              "       1, 3, 3, 3, 3, 3, 3, 2, 1, 1, 1, 3, 3, 1, 1, 1, 1, 3, 1, 1, 2, 1,\n",
              "       1, 3, 3, 1, 1, 1, 1, 3, 4, 4, 1, 2, 0, 3, 3, 3, 3, 2, 3, 2, 1, 4,\n",
              "       4, 4, 2, 3, 1, 1, 3, 1, 1, 4, 1, 3, 1, 1, 1, 3, 3, 3, 3, 1, 1, 1,\n",
              "       3, 1, 4, 4, 1, 1, 1, 2, 2, 1, 0, 3, 1, 4, 4, 3, 1, 3, 4, 1, 1, 1,\n",
              "       1, 4, 3, 3, 0, 2, 4, 1, 3, 1, 4, 1, 1, 1, 3, 3, 1, 3, 3, 3, 3, 4,\n",
              "       2, 3, 1, 4, 0, 3, 3, 3, 1, 4, 3, 3, 2, 1, 0, 4, 3, 3, 1, 1, 2, 2,\n",
              "       3, 3, 1, 4, 3, 3, 1, 3, 3, 3, 4, 1, 1, 2, 1, 3, 0, 2, 3, 4, 3, 3,\n",
              "       1, 3, 2, 1, 3, 3, 1, 1, 2, 1, 2, 4, 2, 3, 2, 3, 4, 4, 2, 4, 4, 4,\n",
              "       4, 2, 1, 3, 3, 1, 3, 1, 2, 1, 4, 1, 1, 2, 3, 3, 2, 1, 2, 4, 3, 3,\n",
              "       1, 3, 1, 1, 3, 3, 3, 1, 3, 3, 1, 1, 3, 1, 2, 1, 2, 1, 1, 1, 3, 1,\n",
              "       3, 3, 1, 3, 3, 1, 1, 3, 1, 4, 1, 3, 1, 2, 3, 2, 1, 3, 3, 1, 4, 4,\n",
              "       4, 3, 1, 1, 1, 4, 3, 2, 1, 0, 3, 1, 1, 2, 1, 1, 1, 3, 1, 1, 1, 4,\n",
              "       0, 3, 1, 3, 3, 3, 1, 1, 3, 3, 3, 4, 3, 2, 2, 1, 2, 2, 4, 3, 2, 2,\n",
              "       3, 4, 1, 3, 3, 1, 1, 1, 1, 1, 3, 3, 1, 3, 1, 2, 1, 1, 4, 2, 1, 3,\n",
              "       3, 3, 1, 1, 4, 1, 3, 3, 1, 1, 4, 3, 4, 1, 1, 1, 1, 3, 3, 1, 1, 4,\n",
              "       3, 1, 1, 3, 1, 3, 1, 1, 1, 1, 1, 3, 3, 1, 2, 2, 3, 3, 3, 3, 3, 3,\n",
              "       1, 4, 3, 1, 4, 1, 4, 3, 3, 2, 1, 2, 1, 3, 3, 3, 1, 3, 3, 1, 4, 0,\n",
              "       3, 1, 3, 3, 3, 1, 4, 1, 1, 1, 3, 1, 1, 3, 3, 3, 1, 4, 1, 3, 3, 3,\n",
              "       4, 3, 3, 2, 1, 4, 1, 4, 4, 3, 3, 3, 3, 3, 2, 2, 3, 3, 3, 0, 1, 1,\n",
              "       1, 1, 4, 4, 1, 3, 3, 3, 3, 1, 4, 2, 3, 3, 1, 0, 1, 3, 1, 1, 3, 1,\n",
              "       3, 1, 1, 1, 3, 2, 1, 2, 3, 1, 1, 1, 1, 3, 3, 3, 3, 3, 1, 1, 1, 1,\n",
              "       1, 1, 3, 1, 3, 1, 1, 1, 3, 1, 3, 1, 3, 2, 2, 2, 4, 2, 1],\n",
              "      dtype=int32)"
            ]
          },
          "metadata": {
            "tags": []
          },
          "execution_count": 36
        }
      ]
    },
    {
      "cell_type": "code",
      "metadata": {
        "colab": {
          "base_uri": "https://localhost:8080/",
          "height": 488
        },
        "id": "DvtNroIhmR5Q",
        "outputId": "5cd31d31-f882-49db-be8a-31382ac87dbb"
      },
      "source": [
        "BreastCancer['clusterP'] = MParticional.labels_\n",
        "BreastCancer"
      ],
      "execution_count": null,
      "outputs": [
        {
          "output_type": "execute_result",
          "data": {
            "text/html": [
              "<div>\n",
              "<style scoped>\n",
              "    .dataframe tbody tr th:only-of-type {\n",
              "        vertical-align: middle;\n",
              "    }\n",
              "\n",
              "    .dataframe tbody tr th {\n",
              "        vertical-align: top;\n",
              "    }\n",
              "\n",
              "    .dataframe thead th {\n",
              "        text-align: right;\n",
              "    }\n",
              "</style>\n",
              "<table border=\"1\" class=\"dataframe\">\n",
              "  <thead>\n",
              "    <tr style=\"text-align: right;\">\n",
              "      <th></th>\n",
              "      <th>IDNumber</th>\n",
              "      <th>Diagnosis</th>\n",
              "      <th>Radius</th>\n",
              "      <th>Texture</th>\n",
              "      <th>Perimeter</th>\n",
              "      <th>Area</th>\n",
              "      <th>Smoothness</th>\n",
              "      <th>Compactness</th>\n",
              "      <th>Concavity</th>\n",
              "      <th>ConcavePoints</th>\n",
              "      <th>Symmetry</th>\n",
              "      <th>FractalDimension</th>\n",
              "      <th>clusterH</th>\n",
              "      <th>clusterP</th>\n",
              "    </tr>\n",
              "  </thead>\n",
              "  <tbody>\n",
              "    <tr>\n",
              "      <th>0</th>\n",
              "      <td>P-842302</td>\n",
              "      <td>M</td>\n",
              "      <td>17.99</td>\n",
              "      <td>10.38</td>\n",
              "      <td>122.80</td>\n",
              "      <td>1001.0</td>\n",
              "      <td>0.11840</td>\n",
              "      <td>0.27760</td>\n",
              "      <td>0.30010</td>\n",
              "      <td>0.14710</td>\n",
              "      <td>0.2419</td>\n",
              "      <td>0.07871</td>\n",
              "      <td>1</td>\n",
              "      <td>4</td>\n",
              "    </tr>\n",
              "    <tr>\n",
              "      <th>1</th>\n",
              "      <td>P-842517</td>\n",
              "      <td>M</td>\n",
              "      <td>20.57</td>\n",
              "      <td>17.77</td>\n",
              "      <td>132.90</td>\n",
              "      <td>1326.0</td>\n",
              "      <td>0.08474</td>\n",
              "      <td>0.07864</td>\n",
              "      <td>0.08690</td>\n",
              "      <td>0.07017</td>\n",
              "      <td>0.1812</td>\n",
              "      <td>0.05667</td>\n",
              "      <td>3</td>\n",
              "      <td>2</td>\n",
              "    </tr>\n",
              "    <tr>\n",
              "      <th>2</th>\n",
              "      <td>P-84300903</td>\n",
              "      <td>M</td>\n",
              "      <td>19.69</td>\n",
              "      <td>21.25</td>\n",
              "      <td>130.00</td>\n",
              "      <td>1203.0</td>\n",
              "      <td>0.10960</td>\n",
              "      <td>0.15990</td>\n",
              "      <td>0.19740</td>\n",
              "      <td>0.12790</td>\n",
              "      <td>0.2069</td>\n",
              "      <td>0.05999</td>\n",
              "      <td>3</td>\n",
              "      <td>2</td>\n",
              "    </tr>\n",
              "    <tr>\n",
              "      <th>3</th>\n",
              "      <td>P-84348301</td>\n",
              "      <td>M</td>\n",
              "      <td>11.42</td>\n",
              "      <td>20.38</td>\n",
              "      <td>77.58</td>\n",
              "      <td>386.1</td>\n",
              "      <td>0.14250</td>\n",
              "      <td>0.28390</td>\n",
              "      <td>0.24140</td>\n",
              "      <td>0.10520</td>\n",
              "      <td>0.2597</td>\n",
              "      <td>0.09744</td>\n",
              "      <td>4</td>\n",
              "      <td>1</td>\n",
              "    </tr>\n",
              "    <tr>\n",
              "      <th>4</th>\n",
              "      <td>P-84358402</td>\n",
              "      <td>M</td>\n",
              "      <td>20.29</td>\n",
              "      <td>14.34</td>\n",
              "      <td>135.10</td>\n",
              "      <td>1297.0</td>\n",
              "      <td>0.10030</td>\n",
              "      <td>0.13280</td>\n",
              "      <td>0.19800</td>\n",
              "      <td>0.10430</td>\n",
              "      <td>0.1809</td>\n",
              "      <td>0.05883</td>\n",
              "      <td>3</td>\n",
              "      <td>2</td>\n",
              "    </tr>\n",
              "    <tr>\n",
              "      <th>...</th>\n",
              "      <td>...</td>\n",
              "      <td>...</td>\n",
              "      <td>...</td>\n",
              "      <td>...</td>\n",
              "      <td>...</td>\n",
              "      <td>...</td>\n",
              "      <td>...</td>\n",
              "      <td>...</td>\n",
              "      <td>...</td>\n",
              "      <td>...</td>\n",
              "      <td>...</td>\n",
              "      <td>...</td>\n",
              "      <td>...</td>\n",
              "      <td>...</td>\n",
              "    </tr>\n",
              "    <tr>\n",
              "      <th>564</th>\n",
              "      <td>P-926424</td>\n",
              "      <td>M</td>\n",
              "      <td>21.56</td>\n",
              "      <td>22.39</td>\n",
              "      <td>142.00</td>\n",
              "      <td>1479.0</td>\n",
              "      <td>0.11100</td>\n",
              "      <td>0.11590</td>\n",
              "      <td>0.24390</td>\n",
              "      <td>0.13890</td>\n",
              "      <td>0.1726</td>\n",
              "      <td>0.05623</td>\n",
              "      <td>0</td>\n",
              "      <td>2</td>\n",
              "    </tr>\n",
              "    <tr>\n",
              "      <th>565</th>\n",
              "      <td>P-926682</td>\n",
              "      <td>M</td>\n",
              "      <td>20.13</td>\n",
              "      <td>28.25</td>\n",
              "      <td>131.20</td>\n",
              "      <td>1261.0</td>\n",
              "      <td>0.09780</td>\n",
              "      <td>0.10340</td>\n",
              "      <td>0.14400</td>\n",
              "      <td>0.09791</td>\n",
              "      <td>0.1752</td>\n",
              "      <td>0.05533</td>\n",
              "      <td>3</td>\n",
              "      <td>2</td>\n",
              "    </tr>\n",
              "    <tr>\n",
              "      <th>566</th>\n",
              "      <td>P-926954</td>\n",
              "      <td>M</td>\n",
              "      <td>16.60</td>\n",
              "      <td>28.08</td>\n",
              "      <td>108.30</td>\n",
              "      <td>858.1</td>\n",
              "      <td>0.08455</td>\n",
              "      <td>0.10230</td>\n",
              "      <td>0.09251</td>\n",
              "      <td>0.05302</td>\n",
              "      <td>0.1590</td>\n",
              "      <td>0.05648</td>\n",
              "      <td>1</td>\n",
              "      <td>4</td>\n",
              "    </tr>\n",
              "    <tr>\n",
              "      <th>567</th>\n",
              "      <td>P-927241</td>\n",
              "      <td>M</td>\n",
              "      <td>20.60</td>\n",
              "      <td>29.33</td>\n",
              "      <td>140.10</td>\n",
              "      <td>1265.0</td>\n",
              "      <td>0.11780</td>\n",
              "      <td>0.27700</td>\n",
              "      <td>0.35140</td>\n",
              "      <td>0.15200</td>\n",
              "      <td>0.2397</td>\n",
              "      <td>0.07016</td>\n",
              "      <td>3</td>\n",
              "      <td>2</td>\n",
              "    </tr>\n",
              "    <tr>\n",
              "      <th>568</th>\n",
              "      <td>P-92751</td>\n",
              "      <td>B</td>\n",
              "      <td>7.76</td>\n",
              "      <td>24.54</td>\n",
              "      <td>47.92</td>\n",
              "      <td>181.0</td>\n",
              "      <td>0.05263</td>\n",
              "      <td>0.04362</td>\n",
              "      <td>0.00000</td>\n",
              "      <td>0.00000</td>\n",
              "      <td>0.1587</td>\n",
              "      <td>0.05884</td>\n",
              "      <td>4</td>\n",
              "      <td>1</td>\n",
              "    </tr>\n",
              "  </tbody>\n",
              "</table>\n",
              "<p>569 rows × 14 columns</p>\n",
              "</div>"
            ],
            "text/plain": [
              "       IDNumber Diagnosis  Radius  ...  FractalDimension  clusterH  clusterP\n",
              "0      P-842302         M   17.99  ...           0.07871         1         4\n",
              "1      P-842517         M   20.57  ...           0.05667         3         2\n",
              "2    P-84300903         M   19.69  ...           0.05999         3         2\n",
              "3    P-84348301         M   11.42  ...           0.09744         4         1\n",
              "4    P-84358402         M   20.29  ...           0.05883         3         2\n",
              "..          ...       ...     ...  ...               ...       ...       ...\n",
              "564    P-926424         M   21.56  ...           0.05623         0         2\n",
              "565    P-926682         M   20.13  ...           0.05533         3         2\n",
              "566    P-926954         M   16.60  ...           0.05648         1         4\n",
              "567    P-927241         M   20.60  ...           0.07016         3         2\n",
              "568     P-92751         B    7.76  ...           0.05884         4         1\n",
              "\n",
              "[569 rows x 14 columns]"
            ]
          },
          "metadata": {
            "tags": []
          },
          "execution_count": 37
        }
      ]
    },
    {
      "cell_type": "code",
      "metadata": {
        "colab": {
          "base_uri": "https://localhost:8080/"
        },
        "id": "47lm-jjqmSnS",
        "outputId": "e08c85a7-6529-449a-e309-081309334066"
      },
      "source": [
        "BreastCancer.groupby(['clusterP'])['clusterP'].count()"
      ],
      "execution_count": null,
      "outputs": [
        {
          "output_type": "execute_result",
          "data": {
            "text/plain": [
              "clusterP\n",
              "0     12\n",
              "1    205\n",
              "2     71\n",
              "3    206\n",
              "4     75\n",
              "Name: clusterP, dtype: int64"
            ]
          },
          "metadata": {
            "tags": []
          },
          "execution_count": 38
        }
      ]
    },
    {
      "cell_type": "code",
      "metadata": {
        "colab": {
          "base_uri": "https://localhost:8080/",
          "height": 202
        },
        "id": "rIv7JjbGntit",
        "outputId": "33c969cc-9cde-4ba2-fa0d-6b453f1acc57"
      },
      "source": [
        "CentroidesP = MParticional.cluster_centers_\n",
        "pd.DataFrame(CentroidesP.round(4))"
      ],
      "execution_count": null,
      "outputs": [
        {
          "output_type": "execute_result",
          "data": {
            "text/html": [
              "<div>\n",
              "<style scoped>\n",
              "    .dataframe tbody tr th:only-of-type {\n",
              "        vertical-align: middle;\n",
              "    }\n",
              "\n",
              "    .dataframe tbody tr th {\n",
              "        vertical-align: top;\n",
              "    }\n",
              "\n",
              "    .dataframe thead th {\n",
              "        text-align: right;\n",
              "    }\n",
              "</style>\n",
              "<table border=\"1\" class=\"dataframe\">\n",
              "  <thead>\n",
              "    <tr style=\"text-align: right;\">\n",
              "      <th></th>\n",
              "      <th>0</th>\n",
              "      <th>1</th>\n",
              "      <th>2</th>\n",
              "      <th>3</th>\n",
              "      <th>4</th>\n",
              "      <th>5</th>\n",
              "    </tr>\n",
              "  </thead>\n",
              "  <tbody>\n",
              "    <tr>\n",
              "      <th>0</th>\n",
              "      <td>22.5467</td>\n",
              "      <td>1934.1667</td>\n",
              "      <td>0.1907</td>\n",
              "      <td>0.2814</td>\n",
              "      <td>0.1929</td>\n",
              "      <td>0.0604</td>\n",
              "    </tr>\n",
              "    <tr>\n",
              "      <th>1</th>\n",
              "      <td>18.0333</td>\n",
              "      <td>368.6868</td>\n",
              "      <td>0.0809</td>\n",
              "      <td>0.0453</td>\n",
              "      <td>0.1803</td>\n",
              "      <td>0.0655</td>\n",
              "    </tr>\n",
              "    <tr>\n",
              "      <th>2</th>\n",
              "      <td>22.0887</td>\n",
              "      <td>1237.9155</td>\n",
              "      <td>0.1485</td>\n",
              "      <td>0.1821</td>\n",
              "      <td>0.1918</td>\n",
              "      <td>0.0601</td>\n",
              "    </tr>\n",
              "    <tr>\n",
              "      <th>3</th>\n",
              "      <td>18.9190</td>\n",
              "      <td>582.7010</td>\n",
              "      <td>0.0968</td>\n",
              "      <td>0.0711</td>\n",
              "      <td>0.1749</td>\n",
              "      <td>0.0617</td>\n",
              "    </tr>\n",
              "    <tr>\n",
              "      <th>4</th>\n",
              "      <td>20.5707</td>\n",
              "      <td>878.8360</td>\n",
              "      <td>0.1335</td>\n",
              "      <td>0.1372</td>\n",
              "      <td>0.1887</td>\n",
              "      <td>0.0614</td>\n",
              "    </tr>\n",
              "  </tbody>\n",
              "</table>\n",
              "</div>"
            ],
            "text/plain": [
              "         0          1       2       3       4       5\n",
              "0  22.5467  1934.1667  0.1907  0.2814  0.1929  0.0604\n",
              "1  18.0333   368.6868  0.0809  0.0453  0.1803  0.0655\n",
              "2  22.0887  1237.9155  0.1485  0.1821  0.1918  0.0601\n",
              "3  18.9190   582.7010  0.0968  0.0711  0.1749  0.0617\n",
              "4  20.5707   878.8360  0.1335  0.1372  0.1887  0.0614"
            ]
          },
          "metadata": {
            "tags": []
          },
          "execution_count": 39
        }
      ]
    },
    {
      "cell_type": "markdown",
      "metadata": {
        "id": "fawCMvODpQSE"
      },
      "source": [
        "**Cluster 0:** 12 pacientes con alta probabilidad de cáncer maligno, con un área promedio de tumor de 1934 pixeles y una desviación estándar de textura de 22.5 pixeles (Es el cluster de pacientes con mayor tamaño de tumor). Aparentemente es un tumor compacto (0.19 pixeles), cuyo número de sectores de concavidad alcanza 0.28 pixeles, una simetría de 0.19 y una aproximación de frontera, dimensión fractal, promedio de 0.06 pixeles.\n",
        "\n",
        "**Cluster 1:** ..."
      ]
    },
    {
      "cell_type": "code",
      "metadata": {
        "colab": {
          "base_uri": "https://localhost:8080/",
          "height": 534
        },
        "id": "7FoQxvrvnyUd",
        "outputId": "3f8ca03f-5ecf-4c42-d8ff-ab846a36068b"
      },
      "source": [
        "# Gráfica de los elementos y los centros de los clusters\n",
        "from mpl_toolkits.mplot3d import Axes3D\n",
        "plt.rcParams['figure.figsize'] = (10, 7)\n",
        "plt.style.use('ggplot')\n",
        "colores=['red', 'blue', 'cyan', 'green', 'yellow']\n",
        "asignar=[]\n",
        "for row in MParticional.labels_:\n",
        "    asignar.append(colores[row])\n",
        "\n",
        "fig = plt.figure()\n",
        "ax = Axes3D(fig)\n",
        "ax.scatter (VariablesModelo[:, 0], VariablesModelo[:, 1], VariablesModelo[:, 2], marker='o', c=asignar, s=60)\n",
        "ax.scatter(CentroidesP[:, 0], CentroidesP[:, 1], CentroidesP[:, 2], marker='*', c=colores, s=1000)\n",
        "plt.show()"
      ],
      "execution_count": null,
      "outputs": [
        {
          "output_type": "display_data",
          "data": {
            "image/png": "[encoded data removed]",
            "text/plain": [
              "<Figure size 720x504 with 1 Axes>"
            ]
          },
          "metadata": {
            "tags": []
          }
        }
      ]
    },
    {
      "cell_type": "code",
      "metadata": {
        "colab": {
          "base_uri": "https://localhost:8080/"
        },
        "id": "gw_IzI3vpsDw",
        "outputId": "bae446fd-08f4-4d7b-9da7-a3dfe7c08cec"
      },
      "source": [
        "#Se identifica a los pacientes más cercanos con respecto a cada centroide\n",
        "Cercanos, _ = pairwise_distances_argmin_min(MParticional.cluster_centers_, VariablesModelo)\n",
        "Cercanos"
      ],
      "execution_count": null,
      "outputs": [
        {
          "output_type": "execute_result",
          "data": {
            "text/plain": [
              "array([ 82, 405, 366, 149, 157])"
            ]
          },
          "metadata": {
            "tags": []
          },
          "execution_count": 41
        }
      ]
    },
    {
      "cell_type": "code",
      "metadata": {
        "id": "XU49r_PXpv18",
        "colab": {
          "base_uri": "https://localhost:8080/"
        },
        "outputId": "edb10ff3-6eba-4efe-f5a8-a99063c583c2"
      },
      "source": [
        "Pacientes = BreastCancer['IDNumber'].values\n",
        "for row in Cercanos:\n",
        "    print(Pacientes[row])"
      ],
      "execution_count": null,
      "outputs": [
        {
          "output_type": "stream",
          "text": [
            "P-8611555\n",
            "P-904971\n",
            "P-9011494\n",
            "P-869931\n",
            "P-8711216\n"
          ],
          "name": "stdout"
        }
      ]
    }
  ]
}